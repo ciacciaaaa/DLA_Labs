{
 "cells": [
  {
   "cell_type": "markdown",
   "id": "cfe2f949",
   "metadata": {},
   "source": [
    "# Laboratory #4: Adversarial Learning and OOD Detection\n",
    "\n",
    "In this laboratory session we will develop a methodology for detecting OOD samples and measuring the quality of OOD detection. We will also experiment with incorporating adversarial examples during training to render models more robust to adversarial attacks.\n",
    "\n",
    "---\n",
    "## Exercise 1: OOD Detection and Performance Evaluation\n",
    "In this first exercise you will build a simple OOD detection pipeline and implement some performance metrics to evaluate its performance."
   ]
  },
  {
   "cell_type": "markdown",
   "id": "1ce715ee",
   "metadata": {},
   "source": [
    "### Exercise 1.1: Build a simple OOD detection pipeline\n",
    "\n",
    "Implement an OOD detection pipeline (like in the Flipped Activity notebook) using an ID and an OOD dataset of your choice. Some options:\n",
    "\n",
    "+ CIFAR-10 (ID), Subset of CIFAR-100 (OOD). You will need to wrap CIFAR-100 in some way to select a subset of classes that are *not* in CIFAR-10 (see `torch.utils.data.Subset`).\n",
    "+ Labeled Faces in the Wild (ID), CIFAR-10 or FakeData (OOD). The LfW dataset is available in Scikit-learn (see `sklearn.datasets.fetch_lfw_people`).\n",
    "+ Something else, but if using images keep the images reasonably small!\n",
    "\n",
    "In this exercise your *OOD Detector* should produce a score representing how \"out of distribution\" a test sample is. We will implement some metrics in the next exercise, but for now use the techniques from the flipped activity notebook to judge how well OOD scoring is working (i.e. histograms).\n",
    "\n",
    "\n",
    "**Note**: Make sure you make a validation split of your ID dataset for testing."
   ]
  },
  {
   "cell_type": "code",
   "execution_count": 1,
   "id": "a9b9019d-6c92-4e72-b63c-3f9b9f076a53",
   "metadata": {},
   "outputs": [],
   "source": [
    "import os\n",
    "os.environ['CUBLAS_WORKSPACE_CONFIG'] = ':4096:8'"
   ]
  },
  {
   "cell_type": "code",
   "execution_count": 2,
   "id": "28c846cc",
   "metadata": {},
   "outputs": [],
   "source": [
    "import torch\n",
    "import torchvision\n",
    "import os\n",
    "from torchvision.datasets import FakeData\n",
    "from torchvision import transforms\n",
    "import matplotlib.pyplot as plt\n",
    "import torch.nn.functional as F\n",
    "from torch import nn\n",
    "from torch import optim\n",
    "import numpy as np\n",
    "from sklearn import metrics\n",
    "import random\n"
   ]
  },
  {
   "cell_type": "code",
   "execution_count": 3,
   "id": "9e220194-34f4-4d19-8ae7-e30ffca19dd7",
   "metadata": {},
   "outputs": [
    {
     "data": {
      "text/plain": [
       "True"
      ]
     },
     "execution_count": 3,
     "metadata": {},
     "output_type": "execute_result"
    }
   ],
   "source": [
    "SEED = 42\n",
    "torch.manual_seed(SEED)\n",
    "np.random.seed(SEED)\n",
    "random.seed(SEED)\n",
    "torch.use_deterministic_algorithms(True)\n",
    "torch.backends.cudnn.deterministic = True\n",
    "torch.cuda.is_available()"
   ]
  },
  {
   "cell_type": "code",
   "execution_count": 4,
   "id": "7f9a87a5",
   "metadata": {
    "tags": []
   },
   "outputs": [
    {
     "name": "stdout",
     "output_type": "stream",
     "text": [
      "Files already downloaded and verified\n",
      "Files already downloaded and verified\n"
     ]
    }
   ],
   "source": [
    "\n",
    "transform = transforms.Compose(\n",
    "    [transforms.ToTensor(),\n",
    "     transforms.Normalize((0.5, 0.5, 0.5), (0.5, 0.5, 0.5))])\n",
    "\n",
    "batch_size = 128\n",
    "\n",
    "# In Distribution (ID) data\n",
    "trainset = torchvision.datasets.CIFAR10(root='./data', train=True, download=True, transform=transform) # ID\n",
    "trainloader = torch.utils.data.DataLoader(trainset, batch_size=batch_size, shuffle=True, num_workers=8, persistent_workers= True)\n",
    "\n",
    "testset = torchvision.datasets.CIFAR10(root='./data', train=False, download=True, transform=transform)\n",
    "testloader = torch.utils.data.DataLoader(testset, batch_size=batch_size, shuffle=False, num_workers=8, persistent_workers= True)\n",
    "\n",
    "\n",
    "# Out Of Distribution (OOD) data: Fake (noisy) data\n",
    "fakeset = FakeData(size=1000, image_size=(3, 32, 32), transform=transform) # OOD\n",
    "fakeloader = torch.utils.data.DataLoader(fakeset, batch_size=batch_size, shuffle=False, num_workers=8, persistent_workers= True)"
   ]
  },
  {
   "cell_type": "code",
   "execution_count": 5,
   "id": "83fd7f1f",
   "metadata": {},
   "outputs": [
    {
     "name": "stderr",
     "output_type": "stream",
     "text": [
      "Clipping input data to the valid range for imshow with RGB data ([0..1] for floats or [0..255] for integers). Got range [-1.0..1.0].\n"
     ]
    },
    {
     "data": {
      "image/png": "[encoded data removed]",
      "text/plain": [
       "<Figure size 640x480 with 1 Axes>"
      ]
     },
     "metadata": {},
     "output_type": "display_data"
    }
   ],
   "source": [
    "for data in fakeloader:\n",
    "    x, y = data\n",
    "    plt.imshow(x[0,:].permute(1,2,0))\n",
    "    break\n",
    "\n",
    "x.shape, trainset.classes[y[0]]\n",
    "\n",
    "trainset.classes\n",
    "class_dict = {class_name:id_class for id_class, class_name in enumerate(trainset.classes)} "
   ]
  },
  {
   "cell_type": "code",
   "execution_count": 6,
   "id": "e6f6587c",
   "metadata": {},
   "outputs": [
    {
     "name": "stderr",
     "output_type": "stream",
     "text": [
      "Clipping input data to the valid range for imshow with RGB data ([0..1] for floats or [0..255] for integers). Got range [-1.0..0.9372549].\n"
     ]
    },
    {
     "data": {
      "image/png": "[encoded data removed]",
      "text/plain": [
       "<Figure size 640x480 with 1 Axes>"
      ]
     },
     "metadata": {},
     "output_type": "display_data"
    }
   ],
   "source": [
    "idx = 1\n",
    "for data in testloader:\n",
    "    x, y = data\n",
    "    plt.title(trainset.classes[y[idx]])\n",
    "    plt.imshow(x[idx,:].permute(1,2,0))\n",
    "    break"
   ]
  },
  {
   "cell_type": "code",
   "execution_count": 8,
   "id": "bf75a472",
   "metadata": {},
   "outputs": [
    {
     "name": "stdout",
     "output_type": "stream",
     "text": [
      "EarlyStopping enabled. Monitoring 'val_loss' with patience=10.\n",
      "Starting training for 50 epochs on device 'cuda'...\n"
     ]
    },
    {
     "name": "stderr",
     "output_type": "stream",
     "text": [
      "                                                                                \r"
     ]
    },
    {
     "name": "stdout",
     "output_type": "stream",
     "text": [
      "Epoch 1/50 | Train Loss: 1.7988 | Val Loss: 1.5249 | Val Acc: 0.4482\n"
     ]
    },
    {
     "name": "stderr",
     "output_type": "stream",
     "text": [
      "                                                                                \r"
     ]
    },
    {
     "name": "stdout",
     "output_type": "stream",
     "text": [
      "Epoch 2/50 | Train Loss: 1.4600 | Val Loss: 1.3447 | Val Acc: 0.5154\n"
     ]
    },
    {
     "name": "stderr",
     "output_type": "stream",
     "text": [
      "                                                                                \r"
     ]
    },
    {
     "name": "stdout",
     "output_type": "stream",
     "text": [
      "Epoch 3/50 | Train Loss: 1.3035 | Val Loss: 1.2537 | Val Acc: 0.5495\n"
     ]
    },
    {
     "name": "stderr",
     "output_type": "stream",
     "text": [
      "                                                                                \r"
     ]
    },
    {
     "name": "stdout",
     "output_type": "stream",
     "text": [
      "Epoch 4/50 | Train Loss: 1.2052 | Val Loss: 1.2024 | Val Acc: 0.5694\n"
     ]
    },
    {
     "name": "stderr",
     "output_type": "stream",
     "text": [
      "                                                                                \r"
     ]
    },
    {
     "name": "stdout",
     "output_type": "stream",
     "text": [
      "Epoch 5/50 | Train Loss: 1.1152 | Val Loss: 1.1422 | Val Acc: 0.5914\n"
     ]
    },
    {
     "name": "stderr",
     "output_type": "stream",
     "text": [
      "                                                                                \r"
     ]
    },
    {
     "name": "stdout",
     "output_type": "stream",
     "text": [
      "Epoch 6/50 | Train Loss: 1.0320 | Val Loss: 1.0889 | Val Acc: 0.6117\n"
     ]
    },
    {
     "name": "stderr",
     "output_type": "stream",
     "text": [
      "                                                                                \r"
     ]
    },
    {
     "name": "stdout",
     "output_type": "stream",
     "text": [
      "Epoch 7/50 | Train Loss: 0.9537 | Val Loss: 1.0512 | Val Acc: 0.6239\n"
     ]
    },
    {
     "name": "stderr",
     "output_type": "stream",
     "text": [
      "                                                                                \r"
     ]
    },
    {
     "name": "stdout",
     "output_type": "stream",
     "text": [
      "Epoch 8/50 | Train Loss: 0.8788 | Val Loss: 1.0303 | Val Acc: 0.6314\n"
     ]
    },
    {
     "name": "stderr",
     "output_type": "stream",
     "text": [
      "                                                                                \r"
     ]
    },
    {
     "name": "stdout",
     "output_type": "stream",
     "text": [
      "Epoch 9/50 | Train Loss: 0.8024 | Val Loss: 1.0174 | Val Acc: 0.6464\n"
     ]
    },
    {
     "name": "stderr",
     "output_type": "stream",
     "text": [
      "                                                                                 \r"
     ]
    },
    {
     "name": "stdout",
     "output_type": "stream",
     "text": [
      "Epoch 10/50 | Train Loss: 0.7312 | Val Loss: 1.0263 | Val Acc: 0.6458\n"
     ]
    },
    {
     "name": "stderr",
     "output_type": "stream",
     "text": [
      "                                                                                 \r"
     ]
    },
    {
     "name": "stdout",
     "output_type": "stream",
     "text": [
      "Epoch 11/50 | Train Loss: 0.6543 | Val Loss: 1.0177 | Val Acc: 0.6593\n"
     ]
    },
    {
     "name": "stderr",
     "output_type": "stream",
     "text": [
      "                                                                                 \r"
     ]
    },
    {
     "name": "stdout",
     "output_type": "stream",
     "text": [
      "Epoch 12/50 | Train Loss: 0.5691 | Val Loss: 1.0565 | Val Acc: 0.6536\n"
     ]
    },
    {
     "name": "stderr",
     "output_type": "stream",
     "text": [
      "                                                                                 \r"
     ]
    },
    {
     "name": "stdout",
     "output_type": "stream",
     "text": [
      "Epoch 13/50 | Train Loss: 0.4930 | Val Loss: 1.1330 | Val Acc: 0.6509\n"
     ]
    },
    {
     "name": "stderr",
     "output_type": "stream",
     "text": [
      "                                                                                 \r"
     ]
    },
    {
     "name": "stdout",
     "output_type": "stream",
     "text": [
      "Epoch 14/50 | Train Loss: 0.4103 | Val Loss: 1.1841 | Val Acc: 0.6538\n"
     ]
    },
    {
     "name": "stderr",
     "output_type": "stream",
     "text": [
      "                                                                                 \r"
     ]
    },
    {
     "name": "stdout",
     "output_type": "stream",
     "text": [
      "Epoch 15/50 | Train Loss: 0.3300 | Val Loss: 1.2650 | Val Acc: 0.6560\n"
     ]
    },
    {
     "name": "stderr",
     "output_type": "stream",
     "text": [
      "                                                                                 \r"
     ]
    },
    {
     "name": "stdout",
     "output_type": "stream",
     "text": [
      "Epoch 16/50 | Train Loss: 0.2497 | Val Loss: 1.3876 | Val Acc: 0.6572\n"
     ]
    },
    {
     "name": "stderr",
     "output_type": "stream",
     "text": [
      "                                                                                 \r"
     ]
    },
    {
     "name": "stdout",
     "output_type": "stream",
     "text": [
      "Epoch 17/50 | Train Loss: 0.1858 | Val Loss: 1.5785 | Val Acc: 0.6522\n"
     ]
    },
    {
     "name": "stderr",
     "output_type": "stream",
     "text": [
      "                                                                                 \r"
     ]
    },
    {
     "name": "stdout",
     "output_type": "stream",
     "text": [
      "Epoch 18/50 | Train Loss: 0.1399 | Val Loss: 1.7335 | Val Acc: 0.6513\n"
     ]
    },
    {
     "name": "stderr",
     "output_type": "stream",
     "text": [
      "                                                                                 "
     ]
    },
    {
     "name": "stdout",
     "output_type": "stream",
     "text": [
      "Epoch 19/50 | Train Loss: 0.0999 | Val Loss: 1.8986 | Val Acc: 0.6519\n",
      "\n",
      "EarlyStopping triggered after 10 epochs with no improvement.\n",
      "Training stopped early at epoch 19.\n",
      "\n",
      "--- Training Complete ---\n"
     ]
    },
    {
     "name": "stderr",
     "output_type": "stream",
     "text": [
      "\r"
     ]
    }
   ],
   "source": [
    "from src.OOD_detection import CNN\n",
    "from src.trainer import Trainer, EarlyStopping\n",
    "\n",
    "device = 'cuda' if torch.cuda.is_available() else 'cpu'\n",
    "model = CNN().to(device)\n",
    "optimizer = optim.AdamW(model.parameters(), lr=0.0001)\n",
    "criterion = nn.CrossEntropyLoss()\n",
    "NUM_CLASSES = 10\n",
    "\n",
    "\n",
    "early_stopping_callback = EarlyStopping(\n",
    "    monitor='val_loss', \n",
    "    patience=10,         \n",
    "    mode='min'          \n",
    ")\n",
    "\n",
    "\n",
    "trainer = Trainer(\n",
    "    model=model,\n",
    "    train_dl=trainloader,\n",
    "    val_dl=testloader,\n",
    "    optimizer=optimizer,\n",
    "    criterion=criterion,\n",
    "    num_classes=NUM_CLASSES,\n",
    "    device=device,\n",
    "    callbacks=[early_stopping_callback] \n",
    "\n",
    ")\n",
    "\n",
    "epochs = 50\n",
    "history = trainer.fit(epochs)"
   ]
  },
  {
   "cell_type": "code",
   "execution_count": 9,
   "id": "27c1fd14",
   "metadata": {},
   "outputs": [],
   "source": [
    "# Here we test the model on test data collecting all predictions\n",
    "model.eval()\n",
    "y_gt, y_pred = [], []\n",
    "for it, data in enumerate (testloader):\n",
    "    x, y = data\n",
    "    x, y = x.to(device), y.to(device)\n",
    "\n",
    "    yp = model(x)\n",
    "\n",
    "    y_pred.append(yp.argmax(1))\n",
    "    y_gt.append(y)"
   ]
  },
  {
   "cell_type": "code",
   "execution_count": 10,
   "id": "6b1bc79f",
   "metadata": {},
   "outputs": [
    {
     "name": "stdout",
     "output_type": "stream",
     "text": [
      "Accuracy: 0.6518999934196472\n"
     ]
    },
    {
     "data": {
      "image/png": "[encoded data removed]",
      "text/plain": [
       "<Figure size 640x480 with 2 Axes>"
      ]
     },
     "metadata": {},
     "output_type": "display_data"
    }
   ],
   "source": [
    "# Here we look at accuracy and confusion matrix\n",
    "y_pred_t = torch.cat(y_pred)\n",
    "y_gt_t = torch.cat(y_gt)\n",
    "\n",
    "accuracy = sum(y_pred_t == y_gt_t)/len(y_gt_t)\n",
    "print(f'Accuracy: {accuracy}')\n",
    "\n",
    "cm = metrics.confusion_matrix(y_gt_t.cpu(), y_pred_t.cpu())\n",
    "\n",
    "cmn = cm.astype(np.float32)\n",
    "cmn/=cmn.sum(1)\n",
    "\n",
    "cmn = (100*cmn).astype(np.int32)\n",
    "disp = metrics.ConfusionMatrixDisplay(cmn, display_labels=testset.classes)\n",
    "disp.plot()\n",
    "plt.show()"
   ]
  },
  {
   "cell_type": "code",
   "execution_count": 11,
   "id": "dc46bc18-612c-4508-b70d-4e356bc396b0",
   "metadata": {},
   "outputs": [
    {
     "name": "stdout",
     "output_type": "stream",
     "text": [
      "Per class accuracy: 0.6519\n"
     ]
    }
   ],
   "source": [
    "cmn = cm.astype(np.float32)\n",
    "cmn/=cmn.sum(1)\n",
    "print(f'Per class accuracy: {np.diag(cmn).mean():.4f}')"
   ]
  },
  {
   "cell_type": "code",
   "execution_count": 17,
   "id": "2db8b6c8-bed6-4b50-af86-5239c0c392e0",
   "metadata": {},
   "outputs": [],
   "source": [
    "for data in testloader:\n",
    "    x, y = data\n",
    "    #plt.imshow(x[0,:].permute(1,2,0))\n",
    "    break\n",
    "\n",
    "for data in fakeloader:\n",
    "    xfake, _ = data\n",
    "    #plt.imshow(x[0,:].permute(1,2,0))\n",
    "    break"
   ]
  },
  {
   "cell_type": "code",
   "execution_count": 20,
   "id": "3ab5fbec",
   "metadata": {},
   "outputs": [
    {
     "name": "stderr",
     "output_type": "stream",
     "text": [
      "Clipping input data to the valid range for imshow with RGB data ([0..1] for floats or [0..255] for integers). Got range [-1.0..0.92941177].\n"
     ]
    },
    {
     "data": {
      "image/png": "[encoded data removed]",
      "text/plain": [
       "<Figure size 2000x500 with 3 Axes>"
      ]
     },
     "metadata": {},
     "output_type": "display_data"
    }
   ],
   "source": [
    "import random\n",
    "# Example of logit and softmax output\n",
    "# k=0 # the kth sample of the batch\n",
    "k=random.randint(0,x.shape[0])\n",
    "output = model(x.cuda())\n",
    "\n",
    "plt.figure(figsize=(20,5))\n",
    "plt.subplot(1, 3, 1)\n",
    "plt.bar(np.arange(10),output[k].detach().cpu())\n",
    "plt.title(f'GT: {y[k]}, {testset.classes[y[k]]}')#the corresponding label\n",
    "plt.xlabel('Classes')\n",
    "plt.ylabel('Logit value')\n",
    "\n",
    "T=1\n",
    "s = F.softmax(output/T, 1)\n",
    "plt.subplot(1, 3, 2)\n",
    "plt.title(f'GT: {y[k]}, {testset.classes[y[k]]}')\n",
    "plt.bar(np.arange(10),s[k].detach().cpu())\n",
    "plt.xlabel('Classes')\n",
    "plt.ylabel('Softmax probability')\n",
    "\n",
    "plt.subplot(1, 3, 3)\n",
    "plt.title(f'GT: {testset.classes[y[k]]}')\n",
    "plt.imshow(x[k,:].permute(1,2,0).cpu())\n",
    "plt.show()"
   ]
  },
  {
   "cell_type": "code",
   "execution_count": 19,
   "id": "158cbea6-7ab4-4270-bb4e-e3dedb51b69e",
   "metadata": {},
   "outputs": [
    {
     "data": {
      "text/plain": [
       "torch.Size([128, 3, 32, 32])"
      ]
     },
     "execution_count": 19,
     "metadata": {},
     "output_type": "execute_result"
    }
   ],
   "source": [
    "x.shape"
   ]
  },
  {
   "cell_type": "code",
   "execution_count": 20,
   "id": "a2f97e82-362b-4081-8763-da4b1a8d6c2b",
   "metadata": {},
   "outputs": [
    {
     "data": {
      "image/png": "[encoded data removed]",
      "text/plain": [
       "<Figure size 640x480 with 1 Axes>"
      ]
     },
     "metadata": {},
     "output_type": "display_data"
    },
    {
     "data": {
      "image/png": "[encoded data removed]",
      "text/plain": [
       "<Figure size 640x480 with 1 Axes>"
      ]
     },
     "metadata": {},
     "output_type": "display_data"
    },
    {
     "name": "stderr",
     "output_type": "stream",
     "text": [
      "Clipping input data to the valid range for imshow with RGB data ([0..1] for floats or [0..255] for integers). Got range [-1.0..1.0].\n"
     ]
    },
    {
     "data": {
      "image/png": "[encoded data removed]",
      "text/plain": [
       "<Figure size 640x480 with 1 Axes>"
      ]
     },
     "metadata": {},
     "output_type": "display_data"
    }
   ],
   "source": [
    "# Example of logit and softmax output\n",
    "k=0 # the kth sample of the batch\n",
    "output = model(xfake.cuda())\n",
    "plt.bar(np.arange(10),output[k].detach().cpu())\n",
    "plt.title('logit')\n",
    "plt.show()\n",
    "T=1\n",
    "plt.title(f'softmax t={T}')\n",
    "s = F.softmax(output/T, 1)\n",
    "plt.bar(np.arange(10),s[k].detach().cpu())\n",
    "plt.show()\n",
    "\n",
    "plt.imshow(xfake[0,:].permute(1,2,0))\n",
    "plt.show()"
   ]
  },
  {
   "cell_type": "code",
   "execution_count": 21,
   "id": "3a0f84a2",
   "metadata": {},
   "outputs": [
    {
     "data": {
      "text/plain": [
       "<matplotlib.legend.Legend at 0x7f4aa6b3ef90>"
      ]
     },
     "execution_count": 21,
     "metadata": {},
     "output_type": "execute_result"
    },
    {
     "data": {
      "image/png": "[encoded data removed]",
      "text/plain": [
       "<Figure size 640x480 with 1 Axes>"
      ]
     },
     "metadata": {},
     "output_type": "display_data"
    }
   ],
   "source": [
    "def max_logit(logit):\n",
    "    s = logit.max(dim=1)[0] #get the max for each element of the batch\n",
    "    return s\n",
    "\n",
    "def max_softmax(logit, T=1.0):\n",
    "    s = F.softmax(logit/T, 1)\n",
    "    s = s.max(dim=1)[0] #get the max for each element of the batch\n",
    "    return s\n",
    "\n",
    "\n",
    "def compute_scores(data_loader, score_fun):\n",
    "    scores = []\n",
    "    with torch.no_grad():\n",
    "        for data in data_loader:\n",
    "            x, y = data\n",
    "            output = model(x.to(device))\n",
    "            s = score_fun(output)\n",
    "            scores.append(s)\n",
    "        scores_t = torch.cat(scores)\n",
    "        return scores_t\n",
    "\n",
    "temp = 1\n",
    "#scores_test = compute_scores(testloader, lambda l: max_softmax(l, T=temp))\n",
    "#scores_fake = compute_scores(fakeloader, lambda l: max_softmax(l, T=temp))\n",
    "\n",
    "scores_test = compute_scores(testloader, max_logit)\n",
    "scores_fake = compute_scores(fakeloader, max_logit)\n",
    "      \n",
    "plt.plot(sorted(scores_test.cpu()),label='test')\n",
    "plt.plot(sorted(scores_fake.cpu()),label='fake')\n",
    "plt.legend()"
   ]
  },
  {
   "cell_type": "code",
   "execution_count": 22,
   "id": "996aaab2",
   "metadata": {},
   "outputs": [
    {
     "data": {
      "image/png": "[encoded data removed]",
      "text/plain": [
       "<Figure size 640x480 with 1 Axes>"
      ]
     },
     "metadata": {},
     "output_type": "display_data"
    }
   ],
   "source": [
    "plt.hist(scores_test.cpu(), density=True, alpha=0.5, bins=25,label='test')\n",
    "plt.hist(scores_fake.cpu(), density=True, alpha=0.5, bins=25,label='fake')\n",
    "plt.legend()\n",
    "plt.show()"
   ]
  },
  {
   "cell_type": "code",
   "execution_count": 23,
   "id": "21691aa8",
   "metadata": {},
   "outputs": [],
   "source": [
    "class Autoencoder(nn.Module):\n",
    "    def __init__(self):\n",
    "        super(Autoencoder, self).__init__()\n",
    "        # Input size: [batch, 3, 32, 32]\n",
    "        # Output size: [batch, 3, 32, 32]\n",
    "        self.encoder = nn.Sequential(\n",
    "            nn.Conv2d(3, 12, 4, stride=2, padding=1),            # [batch, 12, 16, 16]\n",
    "            nn.ReLU(),\n",
    "            nn.Conv2d(12, 24, 4, stride=2, padding=1),           # [batch, 24, 8, 8]\n",
    "            nn.ReLU(),\n",
    "\t\t\tnn.Conv2d(24, 48, 4, stride=2, padding=1),           # [batch, 48, 4, 4]\n",
    "            nn.ReLU(),\n",
    "# \t\t\tnn.Conv2d(48, 96, 4, stride=2, padding=1),           # [batch, 96, 2, 2]\n",
    "#             nn.ReLU(),\n",
    "        )\n",
    "        self.decoder = nn.Sequential(\n",
    "#             nn.ConvTranspose2d(96, 48, 4, stride=2, padding=1),  # [batch, 48, 4, 4]\n",
    "#             nn.ReLU(),\n",
    "\t\t\tnn.ConvTranspose2d(48, 24, 4, stride=2, padding=1),  # [batch, 24, 8, 8]\n",
    "            nn.ReLU(),\n",
    "\t\t\tnn.ConvTranspose2d(24, 12, 4, stride=2, padding=1),  # [batch, 12, 16, 16]\n",
    "            nn.ReLU(),\n",
    "            nn.ConvTranspose2d(12, 3, 4, stride=2, padding=1),   # [batch, 3, 32, 32]\n",
    "            nn.Sigmoid(),\n",
    "        )\n",
    "\n",
    "    def forward(self, x):\n",
    "        encoded = self.encoder(x)\n",
    "        decoded = self.decoder(encoded)\n",
    "        return encoded, decoded"
   ]
  },
  {
   "cell_type": "code",
   "execution_count": 24,
   "id": "9a10cfbd",
   "metadata": {},
   "outputs": [],
   "source": [
    "model_ae = Autoencoder().to(device)\n",
    "\n",
    "mse_loss =  nn.MSELoss()\n",
    "optimizer = optim.Adam(model_ae.parameters(), lr=0.0001)"
   ]
  },
  {
   "cell_type": "code",
   "execution_count": 25,
   "id": "e6c2e907",
   "metadata": {},
   "outputs": [
    {
     "name": "stdout",
     "output_type": "stream",
     "text": [
      "0 0.31808402002467523\n",
      "1 0.20284028130266674\n",
      "2 0.18858346682222907\n",
      "3 0.17761055892690672\n",
      "4 0.17146304741387478\n",
      "5 0.1684332361916447\n",
      "6 0.16604656293569015\n",
      "7 0.16274913547136594\n",
      "8 0.160470950100428\n",
      "9 0.1590212518373109\n",
      "10 0.15792318138167682\n",
      "11 0.15702993706669038\n",
      "12 0.1563206364965195\n",
      "13 0.15573766271171668\n",
      "14 0.15519114532281675\n",
      "15 0.15469217864448762\n",
      "16 0.15409694469112264\n",
      "17 0.15356376820513049\n",
      "18 0.15309834990964827\n",
      "19 0.15265070416433427\n"
     ]
    }
   ],
   "source": [
    "epochs = 20\n",
    "for e in range(epochs):\n",
    "    running_loss = 0\n",
    "    for it, data in enumerate (trainloader):\n",
    "        x, y = data\n",
    "        x, y = x.to(device), y.to(device)\n",
    "        \n",
    "        z, x_rec = model_ae(x)\n",
    "        l = mse_loss(x, x_rec)\n",
    "        \n",
    "        optimizer.zero_grad()\n",
    "        l.backward()\n",
    "        optimizer.step()\n",
    "        running_loss += l.item()\n",
    "        #if it % 100 == 0:\n",
    "        #    print(it, l.item())\n",
    "    print(e, running_loss/len(trainloader))"
   ]
  },
  {
   "cell_type": "code",
   "execution_count": 26,
   "id": "867db6ab",
   "metadata": {},
   "outputs": [],
   "source": [
    "model_ae.eval()\n",
    "#use negative MSE since higher error means OOD\n",
    "loss = nn.MSELoss(reduction='none')\n",
    "\n",
    "scores_fake_ae = []\n",
    "with torch.no_grad():\n",
    "    for data in fakeloader:\n",
    "        x, y = data\n",
    "        x=x.to(device)\n",
    "        z, xr = model_ae(x)\n",
    "        l = loss(x, xr)\n",
    "        score = l.mean([1,2,3])\n",
    "        scores_fake_ae.append(-score)\n",
    "        \n",
    "scores_fake_ae = torch.cat(scores_fake_ae)\n",
    "\n",
    "\n",
    "scores_test_ae = []\n",
    "with torch.no_grad():\n",
    "    for data in testloader:\n",
    "        x, y = data\n",
    "        x=x.to(device)\n",
    "        z, xr = model_ae(x)\n",
    "        l = loss(x, xr)\n",
    "        score = l.mean([1,2,3])\n",
    "        scores_test_ae.append(-score)\n",
    "        \n",
    "scores_test_ae = torch.cat(scores_test_ae)"
   ]
  },
  {
   "cell_type": "code",
   "execution_count": 27,
   "id": "8815d41d",
   "metadata": {},
   "outputs": [
    {
     "data": {
      "text/plain": [
       "[<matplotlib.lines.Line2D at 0x7f4a047c9a90>]"
      ]
     },
     "execution_count": 27,
     "metadata": {},
     "output_type": "execute_result"
    },
    {
     "data": {
      "image/png": "[encoded data removed]",
      "text/plain": [
       "<Figure size 640x480 with 1 Axes>"
      ]
     },
     "metadata": {},
     "output_type": "display_data"
    }
   ],
   "source": [
    "plt.plot(sorted(scores_test_ae.cpu()))\n",
    "plt.plot(sorted(scores_fake_ae.cpu()))"
   ]
  },
  {
   "cell_type": "code",
   "execution_count": 28,
   "id": "6f00e390",
   "metadata": {},
   "outputs": [
    {
     "data": {
      "image/png": "[encoded data removed]",
      "text/plain": [
       "<Figure size 640x480 with 1 Axes>"
      ]
     },
     "metadata": {},
     "output_type": "display_data"
    }
   ],
   "source": [
    "plt.hist(scores_test_ae.cpu(), density=True, alpha=0.5, bins=25, label='test')\n",
    "plt.hist(scores_fake_ae.cpu(), density=True, alpha=0.5, bins=25, label='fake')\n",
    "plt.show()"
   ]
  },
  {
   "cell_type": "markdown",
   "id": "f23bb962",
   "metadata": {},
   "source": [
    "### Exercise 1.2: Measure your OOD detection performance\n",
    "\n",
    "There are several metrics used to evaluate OOD detection performance, we will concentrate on two threshold-free approaches: the area under the Receiver Operator Characteristic (ROC) curve for ID classification, and the area under the Precision-Recall curve for *both* ID and OOD scoring. See [the ODIN paper](https://arxiv.org/pdf/1706.02690.pdf) section 4.3 for a description of OOD metrics.\n",
    "\n",
    "Use the functions in `sklearn.metrics` to produce ROC and PR curves for your OOD detector. Some useful functions:\n",
    "\n",
    "+ [`sklearn.metric.RocCurveDisplay.from_predictions`](https://scikit-learn.org/stable/modules/generated/sklearn.metrics.RocCurveDisplay.html)\n",
    "+ [`sklearn.metrics.PrecisionRecallDisplay`](https://scikit-learn.org/stable/modules/generated/sklearn.metrics.PrecisionRecallDisplay.html)\n",
    "\n"
   ]
  },
  {
   "cell_type": "code",
   "execution_count": 29,
   "id": "aa2b7146",
   "metadata": {
    "tags": []
   },
   "outputs": [
    {
     "data": {
      "text/plain": [
       "<sklearn.metrics._plot.roc_curve.RocCurveDisplay at 0x7f4aa6b3fcb0>"
      ]
     },
     "execution_count": 29,
     "metadata": {},
     "output_type": "execute_result"
    },
    {
     "data": {
      "image/png": "[encoded data removed]",
      "text/plain": [
       "<Figure size 640x480 with 1 Axes>"
      ]
     },
     "metadata": {},
     "output_type": "display_data"
    }
   ],
   "source": [
    "# AE performance\n",
    "ypred =  torch.cat((scores_test_ae, scores_fake_ae))\n",
    "y_test = torch.ones_like(scores_test_ae)\n",
    "y_fake = torch.zeros_like(scores_fake_ae)\n",
    "\n",
    "y = torch.cat((y_test, y_fake))\n",
    "\n",
    "#y.shape\n",
    "metrics.RocCurveDisplay.from_predictions(y.cpu(), ypred.cpu())"
   ]
  },
  {
   "cell_type": "code",
   "execution_count": 30,
   "id": "e3fb58ea",
   "metadata": {},
   "outputs": [
    {
     "data": {
      "text/plain": [
       "<sklearn.metrics._plot.roc_curve.RocCurveDisplay at 0x7f4aa0378910>"
      ]
     },
     "execution_count": 30,
     "metadata": {},
     "output_type": "execute_result"
    },
    {
     "data": {
      "image/png": "[encoded data removed]",
      "text/plain": [
       "<Figure size 640x480 with 1 Axes>"
      ]
     },
     "metadata": {},
     "output_type": "display_data"
    }
   ],
   "source": [
    "#logits or softmax performance\n",
    "ypred = torch.cat((scores_test, scores_fake))\n",
    "y_test = torch.ones_like(scores_test)\n",
    "y_fake = torch.zeros_like(scores_fake)\n",
    "\n",
    "y = torch.cat((y_test, y_fake))\n",
    "\n",
    "#y.shape\n",
    "metrics.RocCurveDisplay.from_predictions(y.cpu(), ypred.cpu())"
   ]
  },
  {
   "cell_type": "markdown",
   "id": "af7dcaa0",
   "metadata": {},
   "source": [
    "---\n",
    "## Exercise 2: Enhancing Robustness to Adversarial Attack\n",
    "\n",
    "In this second exercise we will experiment with enhancing our base model to be (more) robust to adversarial attacks. \n",
    "\n",
    "### Exercise 2.1: Implement FGSM and generate adversarial examples\n",
    "\n",
    "Recall that the Fast Gradient Sign Method (FGSM) perturbs samples in the direction of the gradient with respect to the input $\\mathbf{x}$:\n",
    "$$ \\boldsymbol{\\eta}(\\mathbf{x}) = \\varepsilon \\mathrm{sign}(\\nabla_{\\mathbf{x}} \\mathcal{L}(\\boldsymbol{\\theta}, \\mathbf{x}, y)) ) $$\n",
    "Implement FGSM and generate some *adversarial examples* using your trained ID model. Evaluate these samples qualitatively and quantitatively. Evaluate how dependent on $\\varepsilon$ the quality of these samples are. "
   ]
  },
  {
   "cell_type": "code",
   "execution_count": 31,
   "id": "a804c69d",
   "metadata": {},
   "outputs": [],
   "source": [
    "class NormalizeInverse(torchvision.transforms.Normalize):\n",
    "    \"\"\"\n",
    "    Undoes the normalization and returns the reconstructed images in the input domain.\n",
    "    \"\"\"\n",
    "\n",
    "    def __init__(self, mean, std):\n",
    "        mean = torch.as_tensor(mean)\n",
    "        std = torch.as_tensor(std)\n",
    "        std_inv = 1 / (std + 1e-7)\n",
    "        mean_inv = - mean * std_inv\n",
    "        super().__init__(mean=mean_inv, std=std_inv)\n",
    "\n",
    "    def __call__(self, tensor):\n",
    "        return super().__call__(tensor.clone())\n",
    "\n",
    "inv = NormalizeInverse((0.5, 0.5, 0.5), (0.5, 0.5, 0.5))"
   ]
  },
  {
   "cell_type": "code",
   "execution_count": 32,
   "id": "3c1aca71-23f6-4388-bc6f-c2e072dc4557",
   "metadata": {},
   "outputs": [
    {
     "name": "stdout",
     "output_type": "stream",
     "text": [
      "0 airplane\n",
      "1 automobile\n",
      "2 bird\n",
      "3 cat\n",
      "4 deer\n",
      "5 dog\n",
      "6 frog\n",
      "7 horse\n",
      "8 ship\n",
      "9 truck\n"
     ]
    }
   ],
   "source": [
    "for i,c in enumerate(testset.classes):\n",
    "    print(i, c)"
   ]
  },
  {
   "cell_type": "code",
   "execution_count": 33,
   "id": "abd2293b",
   "metadata": {
    "tags": []
   },
   "outputs": [
    {
     "name": "stdout",
     "output_type": "stream",
     "text": [
      "sample id: 3\n"
     ]
    },
    {
     "data": {
      "image/png": "[encoded data removed]",
      "text/plain": [
       "<Figure size 640x480 with 1 Axes>"
      ]
     },
     "metadata": {},
     "output_type": "display_data"
    },
    {
     "name": "stdout",
     "output_type": "stream",
     "text": [
      "classifier is already wrong or target label same as GT!\n"
     ]
    }
   ],
   "source": [
    "loss =  nn.CrossEntropyLoss()\n",
    "model.train()\n",
    "for data in testloader:\n",
    "    x, y = data\n",
    "    break\n",
    "########## CONFIG ###########\n",
    "\n",
    "targeted_attack = False # False for untargeted\n",
    "target_label = class_dict['deer']\n",
    "eps = 1/255 #set the budget for each step\n",
    "sample_id = random.randint(0,len(testloader)) #select id of test set sample to try to attack (id=17 attack)\n",
    "print(f'sample id: {sample_id}')\n",
    "\n",
    "######### END ##############\n",
    "\n",
    "x, y = x[sample_id].to(device), y[sample_id].to(device)\n",
    "\n",
    "x = x[None,:]\n",
    "y = y[None]\n",
    "\n",
    "x.requires_grad=True  \n",
    "#print(x)\n",
    "\n",
    "before = x.clone()\n",
    "output = model(x)\n",
    "#print(output.argmax().item(),  y.item())\n",
    "img = inv(x[0])\n",
    "plt.imshow(img.permute(1,2,0).detach().cpu())\n",
    "plt.title(testset.classes[output.argmax()])\n",
    "plt.show()\n",
    "\n",
    "if output.argmax().item() !=  y.item() or y.item() == target_label:\n",
    "    print('classifier is already wrong or target label same as GT!')\n",
    "else:\n",
    "    done = False\n",
    "    print('Attack!!')\n",
    "    n = 0\n",
    "    # only attack if y==model(x)\n",
    "    # target = torch.tensor(y).unsqueeze(0).cuda()\n",
    "    if targeted_attack:\n",
    "        target = torch.tensor(target_label).unsqueeze(0).cuda()\n",
    "        print(f'target: {testset.classes[target.squeeze()]}')\n",
    "   \n",
    "    while not done: # untargeted attack until success!\n",
    "    \n",
    "        x.retain_grad()\n",
    "\n",
    "        output = model(x)\n",
    "\n",
    "        model.zero_grad()\n",
    "\n",
    "        if targeted_attack:\n",
    "            yt = target # targeted\n",
    "        else:\n",
    "            yt = y # untargeted\n",
    "        \n",
    "        l = loss(output,yt)\n",
    "        l.backward()\n",
    "\n",
    "        if targeted_attack:\n",
    "            x = x - eps * torch.sign(x.grad) # FGSM targeted\n",
    "        else:\n",
    "            x = x + eps * torch.sign(x.grad) # FGSM untargeted\n",
    "        \n",
    "        n += 1\n",
    "\n",
    "        print(output.argmax().item(),  y.item())\n",
    "        if not targeted_attack and output.argmax().item()!=  y.item():\n",
    "            print(f'Untargeted attack success! budget:{int(255 * n * eps)}/255')\n",
    "            done=True\n",
    "        \n",
    "        if targeted_attack and output.argmax().item() == target:\n",
    "            \n",
    "            print(f'Targeted attack({testset.classes[output.argmax()]}) success! budget:{int(255 * n * eps)}/255')\n",
    "            done=True\n",
    "            \n",
    "   \n",
    "    img = inv(x.squeeze())\n",
    "    plt.imshow(img.permute(1,2,0).detach().cpu())\n",
    "    plt.title(testset.classes[output.argmax()])\n",
    "    plt.show()\n",
    "\n",
    "    diff = (x - before)\n",
    "    diffi = inv(diff[0])\n",
    "    plt.imshow(diffi.permute(1,2,0).detach().cpu())\n",
    "    plt.title('diff')\n",
    "    plt.show()\n",
    "\n",
    "    diff_flat = diff.flatten()\n",
    "\n",
    "    plt.hist(diff_flat.detach().cpu())"
   ]
  },
  {
   "cell_type": "code",
   "execution_count": 34,
   "id": "187c8f79-06a8-4ca4-a3f5-26e0367c802a",
   "metadata": {},
   "outputs": [
    {
     "data": {
      "text/plain": [
       "torch.Size([1, 3, 32, 32])"
      ]
     },
     "execution_count": 34,
     "metadata": {},
     "output_type": "execute_result"
    }
   ],
   "source": [
    "x.shape"
   ]
  },
  {
   "cell_type": "code",
   "execution_count": 35,
   "id": "c4500d6f-57f5-4d25-90f3-b29e2fbd6885",
   "metadata": {},
   "outputs": [
    {
     "ename": "NameError",
     "evalue": "name 'diff' is not defined",
     "output_type": "error",
     "traceback": [
      "\u001b[31m---------------------------------------------------------------------------\u001b[39m",
      "\u001b[31mNameError\u001b[39m                                 Traceback (most recent call last)",
      "\u001b[36mCell\u001b[39m\u001b[36m \u001b[39m\u001b[32mIn[35]\u001b[39m\u001b[32m, line 1\u001b[39m\n\u001b[32m----> \u001b[39m\u001b[32m1\u001b[39m diff.squeeze().mean(\u001b[32m0\u001b[39m).shape\n\u001b[32m      2\u001b[39m plt.imshow(\u001b[32m255\u001b[39m * diff.cpu().detach().squeeze().mean(\u001b[32m0\u001b[39m))\n\u001b[32m      3\u001b[39m plt.colorbar()\n",
      "\u001b[31mNameError\u001b[39m: name 'diff' is not defined"
     ]
    }
   ],
   "source": [
    "diff.squeeze().mean(0).shape\n",
    "plt.imshow(255 * diff.cpu().detach().squeeze().mean(0))\n",
    "plt.colorbar()"
   ]
  },
  {
   "cell_type": "markdown",
   "id": "56b3bf62",
   "metadata": {},
   "source": [
    "### Exercise 2.2: Augment training with adversarial examples\n",
    "\n",
    "Use your implementation of FGSM to augment your training dataset with adversarial samples. Ideally, you should implement this data augmentation *on the fly* so that the adversarial samples are always generated using the current model. Evaluate whether the model is more (or less) robust to ID samples using your OOD detection pipeline and metrics you implemented in Exercise 1."
   ]
  },
  {
   "cell_type": "code",
   "execution_count": 36,
   "id": "1f239bff",
   "metadata": {},
   "outputs": [],
   "source": [
    "import torch\n",
    "import torch.nn as nn\n",
    "import torch.optim as optim\n",
    "from torchvision.datasets import CIFAR10, FakeData\n",
    "from torchvision import transforms\n",
    "from torch.utils.data import DataLoader\n",
    "from tqdm.notebook import tqdm\n",
    "import torch.nn.functional as F\n",
    "import numpy as np\n",
    "import matplotlib.pyplot as plt\n",
    "from sklearn import metrics"
   ]
  },
  {
   "cell_type": "code",
   "execution_count": null,
   "id": "c8c1df32",
   "metadata": {},
   "outputs": [],
   "source": [
    "# 1. Funzione FGSM riutilizzabile \n",
    "def fgsm_attack(model, criterion, x, y, epsilon):\n",
    "    \"\"\"\n",
    "    Genera un batch di esempi avversari usando il Fast Gradient Sign Method (FGSM).\n",
    "    Questo è un attacco \"untargeted\".\n",
    "    \"\"\"\n",
    "    x.requires_grad = True\n",
    "\n",
    "    # Forward pass \n",
    "    output = model(x)\n",
    "    loss = criterion(output, y)\n",
    "\n",
    "    # Backward pass \n",
    "    model.zero_grad()\n",
    "    loss.backward()\n",
    "\n",
    "    grad = x.grad.data\n",
    "    \n",
    "    x_adv = x + epsilon * grad.sign()\n",
    "    \n",
    "    x_adv = torch.clamp(x_adv, -1, 1)\n",
    "    \n",
    "    return x_adv.detach() "
   ]
  },
  {
   "cell_type": "code",
   "execution_count": 38,
   "id": "52291434",
   "metadata": {},
   "outputs": [
    {
     "name": "stdout",
     "output_type": "stream",
     "text": [
      "Initializing a new model for adversarial training...\n"
     ]
    }
   ],
   "source": [
    "# 2. Re-inizializziamo il modello e l'ottimizzatore \n",
    "print(\"Initializing a new model for adversarial training...\")\n",
    "robust_model = CNN().to(device)\n",
    "optimizer_robust = optim.Adam(robust_model.parameters(), lr=0.0001)\n",
    "criterion = nn.CrossEntropyLoss()\n",
    "epsilon = 4/255 # "
   ]
  },
  {
   "cell_type": "code",
   "execution_count": 39,
   "id": "7fd10026",
   "metadata": {},
   "outputs": [
    {
     "name": "stdout",
     "output_type": "stream",
     "text": [
      "Starting adversarial training...\n"
     ]
    },
    {
     "data": {
      "application/vnd.jupyter.widget-view+json": {
       "model_id": "4fa4c17803014744999f1095d0ff0dd7",
       "version_major": 2,
       "version_minor": 0
      },
      "text/plain": [
       "Epoch 1/50:   0%|          | 0/391 [00:00<?, ?it/s]"
      ]
     },
     "metadata": {},
     "output_type": "display_data"
    },
    {
     "name": "stdout",
     "output_type": "stream",
     "text": [
      "Epoch 1, Average Loss: 1.8485\n"
     ]
    },
    {
     "data": {
      "application/vnd.jupyter.widget-view+json": {
       "model_id": "70738791334742768d6ef5490f69960f",
       "version_major": 2,
       "version_minor": 0
      },
      "text/plain": [
       "Epoch 2/50:   0%|          | 0/391 [00:00<?, ?it/s]"
      ]
     },
     "metadata": {},
     "output_type": "display_data"
    },
    {
     "name": "stdout",
     "output_type": "stream",
     "text": [
      "Epoch 2, Average Loss: 1.5807\n"
     ]
    },
    {
     "data": {
      "application/vnd.jupyter.widget-view+json": {
       "model_id": "a488be87aef14c6aa53bf863d4e76ee6",
       "version_major": 2,
       "version_minor": 0
      },
      "text/plain": [
       "Epoch 3/50:   0%|          | 0/391 [00:00<?, ?it/s]"
      ]
     },
     "metadata": {},
     "output_type": "display_data"
    },
    {
     "name": "stdout",
     "output_type": "stream",
     "text": [
      "Epoch 3, Average Loss: 1.4618\n"
     ]
    },
    {
     "data": {
      "application/vnd.jupyter.widget-view+json": {
       "model_id": "f5a6fcecebf74a97a9da55046a0b1b13",
       "version_major": 2,
       "version_minor": 0
      },
      "text/plain": [
       "Epoch 4/50:   0%|          | 0/391 [00:00<?, ?it/s]"
      ]
     },
     "metadata": {},
     "output_type": "display_data"
    },
    {
     "name": "stdout",
     "output_type": "stream",
     "text": [
      "Epoch 4, Average Loss: 1.3817\n"
     ]
    },
    {
     "data": {
      "application/vnd.jupyter.widget-view+json": {
       "model_id": "573a4722b72f44baaad4238319a1cc32",
       "version_major": 2,
       "version_minor": 0
      },
      "text/plain": [
       "Epoch 5/50:   0%|          | 0/391 [00:00<?, ?it/s]"
      ]
     },
     "metadata": {},
     "output_type": "display_data"
    },
    {
     "name": "stdout",
     "output_type": "stream",
     "text": [
      "Epoch 5, Average Loss: 1.3119\n"
     ]
    },
    {
     "data": {
      "application/vnd.jupyter.widget-view+json": {
       "model_id": "e1719fd22d544b59a829a3ee67f3ffab",
       "version_major": 2,
       "version_minor": 0
      },
      "text/plain": [
       "Epoch 6/50:   0%|          | 0/391 [00:00<?, ?it/s]"
      ]
     },
     "metadata": {},
     "output_type": "display_data"
    },
    {
     "name": "stdout",
     "output_type": "stream",
     "text": [
      "Epoch 6, Average Loss: 1.2534\n"
     ]
    },
    {
     "data": {
      "application/vnd.jupyter.widget-view+json": {
       "model_id": "11fd653e93ef4f0b92c499440fb14557",
       "version_major": 2,
       "version_minor": 0
      },
      "text/plain": [
       "Epoch 7/50:   0%|          | 0/391 [00:00<?, ?it/s]"
      ]
     },
     "metadata": {},
     "output_type": "display_data"
    },
    {
     "name": "stdout",
     "output_type": "stream",
     "text": [
      "Epoch 7, Average Loss: 1.1940\n"
     ]
    },
    {
     "data": {
      "application/vnd.jupyter.widget-view+json": {
       "model_id": "175c630c3e434a6e87ae091ca6d0a5e5",
       "version_major": 2,
       "version_minor": 0
      },
      "text/plain": [
       "Epoch 8/50:   0%|          | 0/391 [00:00<?, ?it/s]"
      ]
     },
     "metadata": {},
     "output_type": "display_data"
    },
    {
     "name": "stdout",
     "output_type": "stream",
     "text": [
      "Epoch 8, Average Loss: 1.1364\n"
     ]
    },
    {
     "data": {
      "application/vnd.jupyter.widget-view+json": {
       "model_id": "c9cf5e68e33c4248992b62fd6c3a03c8",
       "version_major": 2,
       "version_minor": 0
      },
      "text/plain": [
       "Epoch 9/50:   0%|          | 0/391 [00:00<?, ?it/s]"
      ]
     },
     "metadata": {},
     "output_type": "display_data"
    },
    {
     "name": "stdout",
     "output_type": "stream",
     "text": [
      "Epoch 9, Average Loss: 1.0795\n"
     ]
    },
    {
     "data": {
      "application/vnd.jupyter.widget-view+json": {
       "model_id": "8f1ac783a14a4f26b1991acfe3a2917b",
       "version_major": 2,
       "version_minor": 0
      },
      "text/plain": [
       "Epoch 10/50:   0%|          | 0/391 [00:00<?, ?it/s]"
      ]
     },
     "metadata": {},
     "output_type": "display_data"
    },
    {
     "name": "stdout",
     "output_type": "stream",
     "text": [
      "Epoch 10, Average Loss: 1.0242\n"
     ]
    },
    {
     "data": {
      "application/vnd.jupyter.widget-view+json": {
       "model_id": "883e2b69d29b41c99e66d68595219404",
       "version_major": 2,
       "version_minor": 0
      },
      "text/plain": [
       "Epoch 11/50:   0%|          | 0/391 [00:00<?, ?it/s]"
      ]
     },
     "metadata": {},
     "output_type": "display_data"
    },
    {
     "name": "stdout",
     "output_type": "stream",
     "text": [
      "Epoch 11, Average Loss: 0.9706\n"
     ]
    },
    {
     "data": {
      "application/vnd.jupyter.widget-view+json": {
       "model_id": "07d200510ebf4ecca56ea1d9d5ab601c",
       "version_major": 2,
       "version_minor": 0
      },
      "text/plain": [
       "Epoch 12/50:   0%|          | 0/391 [00:00<?, ?it/s]"
      ]
     },
     "metadata": {},
     "output_type": "display_data"
    },
    {
     "name": "stdout",
     "output_type": "stream",
     "text": [
      "Epoch 12, Average Loss: 0.9154\n"
     ]
    },
    {
     "data": {
      "application/vnd.jupyter.widget-view+json": {
       "model_id": "c1dbe684d6c747feb05eed91cab136d4",
       "version_major": 2,
       "version_minor": 0
      },
      "text/plain": [
       "Epoch 13/50:   0%|          | 0/391 [00:00<?, ?it/s]"
      ]
     },
     "metadata": {},
     "output_type": "display_data"
    },
    {
     "name": "stdout",
     "output_type": "stream",
     "text": [
      "Epoch 13, Average Loss: 0.8568\n"
     ]
    },
    {
     "data": {
      "application/vnd.jupyter.widget-view+json": {
       "model_id": "032e44821be94351a74d1037076bbc65",
       "version_major": 2,
       "version_minor": 0
      },
      "text/plain": [
       "Epoch 14/50:   0%|          | 0/391 [00:00<?, ?it/s]"
      ]
     },
     "metadata": {},
     "output_type": "display_data"
    },
    {
     "name": "stdout",
     "output_type": "stream",
     "text": [
      "Epoch 14, Average Loss: 0.8013\n"
     ]
    },
    {
     "data": {
      "application/vnd.jupyter.widget-view+json": {
       "model_id": "552b951c46954eefa255cf5e7d1bccbf",
       "version_major": 2,
       "version_minor": 0
      },
      "text/plain": [
       "Epoch 15/50:   0%|          | 0/391 [00:00<?, ?it/s]"
      ]
     },
     "metadata": {},
     "output_type": "display_data"
    },
    {
     "name": "stdout",
     "output_type": "stream",
     "text": [
      "Epoch 15, Average Loss: 0.7354\n"
     ]
    },
    {
     "data": {
      "application/vnd.jupyter.widget-view+json": {
       "model_id": "e654159e7a444b61b243d9c141dfefef",
       "version_major": 2,
       "version_minor": 0
      },
      "text/plain": [
       "Epoch 16/50:   0%|          | 0/391 [00:00<?, ?it/s]"
      ]
     },
     "metadata": {},
     "output_type": "display_data"
    },
    {
     "name": "stdout",
     "output_type": "stream",
     "text": [
      "Epoch 16, Average Loss: 0.6716\n"
     ]
    },
    {
     "data": {
      "application/vnd.jupyter.widget-view+json": {
       "model_id": "80c8e8ca8c974f48bcd000fcc224fc44",
       "version_major": 2,
       "version_minor": 0
      },
      "text/plain": [
       "Epoch 17/50:   0%|          | 0/391 [00:00<?, ?it/s]"
      ]
     },
     "metadata": {},
     "output_type": "display_data"
    },
    {
     "name": "stdout",
     "output_type": "stream",
     "text": [
      "Epoch 17, Average Loss: 0.6027\n"
     ]
    },
    {
     "data": {
      "application/vnd.jupyter.widget-view+json": {
       "model_id": "ad4b7160972c4daeb284db1d16d7808a",
       "version_major": 2,
       "version_minor": 0
      },
      "text/plain": [
       "Epoch 18/50:   0%|          | 0/391 [00:00<?, ?it/s]"
      ]
     },
     "metadata": {},
     "output_type": "display_data"
    },
    {
     "name": "stdout",
     "output_type": "stream",
     "text": [
      "Epoch 18, Average Loss: 0.5388\n"
     ]
    },
    {
     "data": {
      "application/vnd.jupyter.widget-view+json": {
       "model_id": "509019fd1394466081e6c469fda8d9c2",
       "version_major": 2,
       "version_minor": 0
      },
      "text/plain": [
       "Epoch 19/50:   0%|          | 0/391 [00:00<?, ?it/s]"
      ]
     },
     "metadata": {},
     "output_type": "display_data"
    },
    {
     "name": "stdout",
     "output_type": "stream",
     "text": [
      "Epoch 19, Average Loss: 0.4717\n"
     ]
    },
    {
     "data": {
      "application/vnd.jupyter.widget-view+json": {
       "model_id": "e85500fd2a9543afa0de2fbe44f43474",
       "version_major": 2,
       "version_minor": 0
      },
      "text/plain": [
       "Epoch 20/50:   0%|          | 0/391 [00:00<?, ?it/s]"
      ]
     },
     "metadata": {},
     "output_type": "display_data"
    },
    {
     "name": "stdout",
     "output_type": "stream",
     "text": [
      "Epoch 20, Average Loss: 0.4085\n"
     ]
    },
    {
     "data": {
      "application/vnd.jupyter.widget-view+json": {
       "model_id": "cde74e0b138f421eaf40683929236cfc",
       "version_major": 2,
       "version_minor": 0
      },
      "text/plain": [
       "Epoch 21/50:   0%|          | 0/391 [00:00<?, ?it/s]"
      ]
     },
     "metadata": {},
     "output_type": "display_data"
    },
    {
     "name": "stdout",
     "output_type": "stream",
     "text": [
      "Epoch 21, Average Loss: 0.3468\n"
     ]
    },
    {
     "data": {
      "application/vnd.jupyter.widget-view+json": {
       "model_id": "c3424d789ece41ce95515a086a9f2c5e",
       "version_major": 2,
       "version_minor": 0
      },
      "text/plain": [
       "Epoch 22/50:   0%|          | 0/391 [00:00<?, ?it/s]"
      ]
     },
     "metadata": {},
     "output_type": "display_data"
    },
    {
     "name": "stdout",
     "output_type": "stream",
     "text": [
      "Epoch 22, Average Loss: 0.2944\n"
     ]
    },
    {
     "data": {
      "application/vnd.jupyter.widget-view+json": {
       "model_id": "0d40a0fe785a4165a29dfe006ff3888b",
       "version_major": 2,
       "version_minor": 0
      },
      "text/plain": [
       "Epoch 23/50:   0%|          | 0/391 [00:00<?, ?it/s]"
      ]
     },
     "metadata": {},
     "output_type": "display_data"
    },
    {
     "name": "stdout",
     "output_type": "stream",
     "text": [
      "Epoch 23, Average Loss: 0.2454\n"
     ]
    },
    {
     "data": {
      "application/vnd.jupyter.widget-view+json": {
       "model_id": "68f42cf702084192a524719e90f0ec46",
       "version_major": 2,
       "version_minor": 0
      },
      "text/plain": [
       "Epoch 24/50:   0%|          | 0/391 [00:00<?, ?it/s]"
      ]
     },
     "metadata": {},
     "output_type": "display_data"
    },
    {
     "name": "stdout",
     "output_type": "stream",
     "text": [
      "Epoch 24, Average Loss: 0.1957\n"
     ]
    },
    {
     "data": {
      "application/vnd.jupyter.widget-view+json": {
       "model_id": "465d5a1e205c4239b5b8f09453d1d65f",
       "version_major": 2,
       "version_minor": 0
      },
      "text/plain": [
       "Epoch 25/50:   0%|          | 0/391 [00:00<?, ?it/s]"
      ]
     },
     "metadata": {},
     "output_type": "display_data"
    },
    {
     "name": "stdout",
     "output_type": "stream",
     "text": [
      "Epoch 25, Average Loss: 0.1646\n"
     ]
    },
    {
     "data": {
      "application/vnd.jupyter.widget-view+json": {
       "model_id": "9acfea058c114cd6846b07d3608ea368",
       "version_major": 2,
       "version_minor": 0
      },
      "text/plain": [
       "Epoch 26/50:   0%|          | 0/391 [00:00<?, ?it/s]"
      ]
     },
     "metadata": {},
     "output_type": "display_data"
    },
    {
     "name": "stdout",
     "output_type": "stream",
     "text": [
      "Epoch 26, Average Loss: 0.1368\n"
     ]
    },
    {
     "data": {
      "application/vnd.jupyter.widget-view+json": {
       "model_id": "cf5c05946ca84654ba5e715e842f6857",
       "version_major": 2,
       "version_minor": 0
      },
      "text/plain": [
       "Epoch 27/50:   0%|          | 0/391 [00:00<?, ?it/s]"
      ]
     },
     "metadata": {},
     "output_type": "display_data"
    },
    {
     "name": "stdout",
     "output_type": "stream",
     "text": [
      "Epoch 27, Average Loss: 0.1094\n"
     ]
    },
    {
     "data": {
      "application/vnd.jupyter.widget-view+json": {
       "model_id": "8079ec54d0ac45d1bde12b687b2e81e6",
       "version_major": 2,
       "version_minor": 0
      },
      "text/plain": [
       "Epoch 28/50:   0%|          | 0/391 [00:00<?, ?it/s]"
      ]
     },
     "metadata": {},
     "output_type": "display_data"
    },
    {
     "name": "stdout",
     "output_type": "stream",
     "text": [
      "Epoch 28, Average Loss: 0.0989\n"
     ]
    },
    {
     "data": {
      "application/vnd.jupyter.widget-view+json": {
       "model_id": "556ba6d63c0a48dfad70bf477752e0df",
       "version_major": 2,
       "version_minor": 0
      },
      "text/plain": [
       "Epoch 29/50:   0%|          | 0/391 [00:00<?, ?it/s]"
      ]
     },
     "metadata": {},
     "output_type": "display_data"
    },
    {
     "name": "stdout",
     "output_type": "stream",
     "text": [
      "Epoch 29, Average Loss: 0.0924\n"
     ]
    },
    {
     "data": {
      "application/vnd.jupyter.widget-view+json": {
       "model_id": "08767a65f1c64e58a62b246ab54d166f",
       "version_major": 2,
       "version_minor": 0
      },
      "text/plain": [
       "Epoch 30/50:   0%|          | 0/391 [00:00<?, ?it/s]"
      ]
     },
     "metadata": {},
     "output_type": "display_data"
    },
    {
     "name": "stdout",
     "output_type": "stream",
     "text": [
      "Epoch 30, Average Loss: 0.0746\n"
     ]
    },
    {
     "data": {
      "application/vnd.jupyter.widget-view+json": {
       "model_id": "10c5d98b4a6348bc86a3e13fb149e280",
       "version_major": 2,
       "version_minor": 0
      },
      "text/plain": [
       "Epoch 31/50:   0%|          | 0/391 [00:00<?, ?it/s]"
      ]
     },
     "metadata": {},
     "output_type": "display_data"
    },
    {
     "name": "stdout",
     "output_type": "stream",
     "text": [
      "Epoch 31, Average Loss: 0.0699\n"
     ]
    },
    {
     "data": {
      "application/vnd.jupyter.widget-view+json": {
       "model_id": "721e346b98064d32a3062414657541b8",
       "version_major": 2,
       "version_minor": 0
      },
      "text/plain": [
       "Epoch 32/50:   0%|          | 0/391 [00:00<?, ?it/s]"
      ]
     },
     "metadata": {},
     "output_type": "display_data"
    },
    {
     "name": "stdout",
     "output_type": "stream",
     "text": [
      "Epoch 32, Average Loss: 0.0623\n"
     ]
    },
    {
     "data": {
      "application/vnd.jupyter.widget-view+json": {
       "model_id": "e36656e0f91049e980f26793bd396f13",
       "version_major": 2,
       "version_minor": 0
      },
      "text/plain": [
       "Epoch 33/50:   0%|          | 0/391 [00:00<?, ?it/s]"
      ]
     },
     "metadata": {},
     "output_type": "display_data"
    },
    {
     "name": "stdout",
     "output_type": "stream",
     "text": [
      "Epoch 33, Average Loss: 0.0459\n"
     ]
    },
    {
     "data": {
      "application/vnd.jupyter.widget-view+json": {
       "model_id": "2d28771cf4b14cda848cd3092a9885e8",
       "version_major": 2,
       "version_minor": 0
      },
      "text/plain": [
       "Epoch 34/50:   0%|          | 0/391 [00:00<?, ?it/s]"
      ]
     },
     "metadata": {},
     "output_type": "display_data"
    },
    {
     "name": "stdout",
     "output_type": "stream",
     "text": [
      "Epoch 34, Average Loss: 0.0648\n"
     ]
    },
    {
     "data": {
      "application/vnd.jupyter.widget-view+json": {
       "model_id": "3f0eeb1ff0ea43489a2ae122201c39e7",
       "version_major": 2,
       "version_minor": 0
      },
      "text/plain": [
       "Epoch 35/50:   0%|          | 0/391 [00:00<?, ?it/s]"
      ]
     },
     "metadata": {},
     "output_type": "display_data"
    },
    {
     "name": "stdout",
     "output_type": "stream",
     "text": [
      "Epoch 35, Average Loss: 0.0556\n"
     ]
    },
    {
     "data": {
      "application/vnd.jupyter.widget-view+json": {
       "model_id": "62faacc6a37d4ccaa3f096626dfa1fc2",
       "version_major": 2,
       "version_minor": 0
      },
      "text/plain": [
       "Epoch 36/50:   0%|          | 0/391 [00:00<?, ?it/s]"
      ]
     },
     "metadata": {},
     "output_type": "display_data"
    },
    {
     "name": "stdout",
     "output_type": "stream",
     "text": [
      "Epoch 36, Average Loss: 0.0463\n"
     ]
    },
    {
     "data": {
      "application/vnd.jupyter.widget-view+json": {
       "model_id": "caa7f2f283014e0296be929277b52f49",
       "version_major": 2,
       "version_minor": 0
      },
      "text/plain": [
       "Epoch 37/50:   0%|          | 0/391 [00:00<?, ?it/s]"
      ]
     },
     "metadata": {},
     "output_type": "display_data"
    },
    {
     "name": "stdout",
     "output_type": "stream",
     "text": [
      "Epoch 37, Average Loss: 0.0402\n"
     ]
    },
    {
     "data": {
      "application/vnd.jupyter.widget-view+json": {
       "model_id": "6431a27d12ed42f9a4f72179f067c505",
       "version_major": 2,
       "version_minor": 0
      },
      "text/plain": [
       "Epoch 38/50:   0%|          | 0/391 [00:00<?, ?it/s]"
      ]
     },
     "metadata": {},
     "output_type": "display_data"
    },
    {
     "name": "stdout",
     "output_type": "stream",
     "text": [
      "Epoch 38, Average Loss: 0.0443\n"
     ]
    },
    {
     "data": {
      "application/vnd.jupyter.widget-view+json": {
       "model_id": "2ad888498b8e4037a201c9223b2c4c18",
       "version_major": 2,
       "version_minor": 0
      },
      "text/plain": [
       "Epoch 39/50:   0%|          | 0/391 [00:00<?, ?it/s]"
      ]
     },
     "metadata": {},
     "output_type": "display_data"
    },
    {
     "name": "stdout",
     "output_type": "stream",
     "text": [
      "Epoch 39, Average Loss: 0.0420\n"
     ]
    },
    {
     "data": {
      "application/vnd.jupyter.widget-view+json": {
       "model_id": "ef58de097c98440f9141cd27c0e37380",
       "version_major": 2,
       "version_minor": 0
      },
      "text/plain": [
       "Epoch 40/50:   0%|          | 0/391 [00:00<?, ?it/s]"
      ]
     },
     "metadata": {},
     "output_type": "display_data"
    },
    {
     "name": "stdout",
     "output_type": "stream",
     "text": [
      "Epoch 40, Average Loss: 0.0339\n"
     ]
    },
    {
     "data": {
      "application/vnd.jupyter.widget-view+json": {
       "model_id": "1cca9ebce9054a988d97cad538561fd2",
       "version_major": 2,
       "version_minor": 0
      },
      "text/plain": [
       "Epoch 41/50:   0%|          | 0/391 [00:00<?, ?it/s]"
      ]
     },
     "metadata": {},
     "output_type": "display_data"
    },
    {
     "name": "stdout",
     "output_type": "stream",
     "text": [
      "Epoch 41, Average Loss: 0.0456\n"
     ]
    },
    {
     "data": {
      "application/vnd.jupyter.widget-view+json": {
       "model_id": "0e5c2fefe90248ec976bbce85af18c90",
       "version_major": 2,
       "version_minor": 0
      },
      "text/plain": [
       "Epoch 42/50:   0%|          | 0/391 [00:00<?, ?it/s]"
      ]
     },
     "metadata": {},
     "output_type": "display_data"
    },
    {
     "name": "stdout",
     "output_type": "stream",
     "text": [
      "Epoch 42, Average Loss: 0.0341\n"
     ]
    },
    {
     "data": {
      "application/vnd.jupyter.widget-view+json": {
       "model_id": "a87dc30f663c4047a093e605a8268d60",
       "version_major": 2,
       "version_minor": 0
      },
      "text/plain": [
       "Epoch 43/50:   0%|          | 0/391 [00:00<?, ?it/s]"
      ]
     },
     "metadata": {},
     "output_type": "display_data"
    },
    {
     "name": "stdout",
     "output_type": "stream",
     "text": [
      "Epoch 43, Average Loss: 0.0184\n"
     ]
    },
    {
     "data": {
      "application/vnd.jupyter.widget-view+json": {
       "model_id": "7bed74e673144e589e7fd7a0d72f638b",
       "version_major": 2,
       "version_minor": 0
      },
      "text/plain": [
       "Epoch 44/50:   0%|          | 0/391 [00:00<?, ?it/s]"
      ]
     },
     "metadata": {},
     "output_type": "display_data"
    },
    {
     "name": "stdout",
     "output_type": "stream",
     "text": [
      "Epoch 44, Average Loss: 0.0368\n"
     ]
    },
    {
     "data": {
      "application/vnd.jupyter.widget-view+json": {
       "model_id": "9e4648239c6742ab99b65d7a1355cbb8",
       "version_major": 2,
       "version_minor": 0
      },
      "text/plain": [
       "Epoch 45/50:   0%|          | 0/391 [00:00<?, ?it/s]"
      ]
     },
     "metadata": {},
     "output_type": "display_data"
    },
    {
     "name": "stdout",
     "output_type": "stream",
     "text": [
      "Epoch 45, Average Loss: 0.0450\n"
     ]
    },
    {
     "data": {
      "application/vnd.jupyter.widget-view+json": {
       "model_id": "0d2a96c280f84163b81313266d62be7d",
       "version_major": 2,
       "version_minor": 0
      },
      "text/plain": [
       "Epoch 46/50:   0%|          | 0/391 [00:00<?, ?it/s]"
      ]
     },
     "metadata": {},
     "output_type": "display_data"
    },
    {
     "name": "stdout",
     "output_type": "stream",
     "text": [
      "Epoch 46, Average Loss: 0.0212\n"
     ]
    },
    {
     "data": {
      "application/vnd.jupyter.widget-view+json": {
       "model_id": "21ed0a2f5a7e45e8b91517274706014f",
       "version_major": 2,
       "version_minor": 0
      },
      "text/plain": [
       "Epoch 47/50:   0%|          | 0/391 [00:00<?, ?it/s]"
      ]
     },
     "metadata": {},
     "output_type": "display_data"
    },
    {
     "name": "stdout",
     "output_type": "stream",
     "text": [
      "Epoch 47, Average Loss: 0.0295\n"
     ]
    },
    {
     "data": {
      "application/vnd.jupyter.widget-view+json": {
       "model_id": "401c2de831a442af8a1f0cfb473df2b1",
       "version_major": 2,
       "version_minor": 0
      },
      "text/plain": [
       "Epoch 48/50:   0%|          | 0/391 [00:00<?, ?it/s]"
      ]
     },
     "metadata": {},
     "output_type": "display_data"
    },
    {
     "name": "stdout",
     "output_type": "stream",
     "text": [
      "Epoch 48, Average Loss: 0.0322\n"
     ]
    },
    {
     "data": {
      "application/vnd.jupyter.widget-view+json": {
       "model_id": "4a4de01379df4b69bc9828e8d74b81e5",
       "version_major": 2,
       "version_minor": 0
      },
      "text/plain": [
       "Epoch 49/50:   0%|          | 0/391 [00:00<?, ?it/s]"
      ]
     },
     "metadata": {},
     "output_type": "display_data"
    },
    {
     "name": "stdout",
     "output_type": "stream",
     "text": [
      "Epoch 49, Average Loss: 0.0255\n"
     ]
    },
    {
     "data": {
      "application/vnd.jupyter.widget-view+json": {
       "model_id": "3a8e4466b2f7469b9cc64414af700a94",
       "version_major": 2,
       "version_minor": 0
      },
      "text/plain": [
       "Epoch 50/50:   0%|          | 0/391 [00:00<?, ?it/s]"
      ]
     },
     "metadata": {},
     "output_type": "display_data"
    },
    {
     "name": "stdout",
     "output_type": "stream",
     "text": [
      "Epoch 50, Average Loss: 0.0316\n",
      "Adversarial training complete.\n"
     ]
    }
   ],
   "source": [
    "# 3. Nuovo Ciclo di Addestramento con Augmentation Avversaria\n",
    "epochs = 50 \n",
    "\n",
    "print(\"Starting adversarial training...\")\n",
    "for e in range(epochs):\n",
    "    running_loss = 0\n",
    "    progress_bar = tqdm(trainloader, desc=f\"Epoch {e+1}/{epochs}\")\n",
    "    \n",
    "    for x, y in progress_bar:\n",
    "        x, y = x.to(device), y.to(device)\n",
    "        \n",
    "        # on the-fly \n",
    "        x_adv = fgsm_attack(robust_model, criterion, x.clone(), y, epsilon)\n",
    "        \n",
    "        # Combina il batch originale e quello avversario\n",
    "        x_combined = torch.cat([x, x_adv])\n",
    "        y_combined = torch.cat([y, y])\n",
    "        \n",
    "        #Addestramento sul batch combinato\n",
    "        yp = robust_model(x_combined)\n",
    "        l = criterion(yp, y_combined)\n",
    "        \n",
    "        optimizer_robust.zero_grad()\n",
    "        l.backward()\n",
    "        optimizer_robust.step()\n",
    "        \n",
    "        running_loss += l.item()\n",
    "        progress_bar.set_postfix(loss=f\"{l.item():.4f}\")\n",
    "        \n",
    "    print(f\"Epoch {e+1}, Average Loss: {running_loss/len(trainloader):.4f}\")\n",
    "\n",
    "print(\"Adversarial training complete.\")"
   ]
  },
  {
   "cell_type": "code",
   "execution_count": 40,
   "id": "7719d036",
   "metadata": {},
   "outputs": [
    {
     "name": "stdout",
     "output_type": "stream",
     "text": [
      "\n",
      "Evaluating the robust model's OOD detection performance\n"
     ]
    }
   ],
   "source": [
    "# 4. Valutazione del Modello Robusto (come nell'Esercizio 1)\n",
    "print(\"\\nEvaluating the robust model's OOD detection performance\")\n",
    "\n",
    "robust_model.eval()\n",
    "\n",
    "def max_logit(logit):\n",
    "    s = logit.max(dim=1)[0] # get the max for each element of the batch\n",
    "    return s\n",
    "\n",
    "def max_softmax(logit, T=1.0):\n",
    "    s = F.softmax(logit/T, 1)\n",
    "    return s.max(dim=1)[0]\n",
    "\n",
    "def compute_scores(data_loader, model_to_test, score_fun):\n",
    "    scores = []\n",
    "    with torch.no_grad():\n",
    "        for data in data_loader:\n",
    "            x, _ = data\n",
    "            output = model_to_test(x.to(device))\n",
    "            s = score_fun(output)\n",
    "            scores.append(s)\n",
    "    return torch.cat(scores)\n"
   ]
  },
  {
   "cell_type": "code",
   "execution_count": 41,
   "id": "6deef151",
   "metadata": {},
   "outputs": [
    {
     "name": "stdout",
     "output_type": "stream",
     "text": [
      "Plotting results for the robust model...\n"
     ]
    },
    {
     "data": {
      "image/png": "[encoded data removed]",
      "text/plain": [
       "<Figure size 1000x600 with 1 Axes>"
      ]
     },
     "metadata": {},
     "output_type": "display_data"
    },
    {
     "data": {
      "text/plain": [
       "<Figure size 800x800 with 0 Axes>"
      ]
     },
     "metadata": {},
     "output_type": "display_data"
    },
    {
     "data": {
      "image/png": "[encoded data removed]",
      "text/plain": [
       "<Figure size 640x480 with 1 Axes>"
      ]
     },
     "metadata": {},
     "output_type": "display_data"
    }
   ],
   "source": [
    "# Calcola i punteggi per i dati ID e OOD usando il nuovo modello robusto per la MAX SOFTMAX\n",
    "scores_test_robust = compute_scores(testloader, robust_model, max_softmax)\n",
    "scores_fake_robust = compute_scores(fakeloader, robust_model, max_softmax)\n",
    "\n",
    "# 5. Visualizzazione e Analisi dei Risultati\n",
    "print(\"Plotting results for the robust model...\")\n",
    "\n",
    "# Istogramma delle distribuzioni dei punteggi\n",
    "plt.figure(figsize=(10, 6))\n",
    "plt.hist(scores_test_robust.cpu().numpy(), density=True, alpha=0.5, bins=25, label='ID (CIFAR-10)')\n",
    "plt.hist(scores_fake_robust.cpu().numpy(), density=True, alpha=0.5, bins=25, label='OOD (FakeData)')\n",
    "plt.title('Score Distributions (Robust Model)')\n",
    "plt.xlabel('Confidence Score (max_softmax)')\n",
    "plt.legend()\n",
    "plt.show()\n",
    "\n",
    "# Curva ROC per la performance di rilevamento OOD\n",
    "y_pred_robust = torch.cat((scores_test_robust, scores_fake_robust))\n",
    "y_true_robust = torch.cat((torch.ones_like(scores_test_robust), torch.zeros_like(scores_fake_robust)))\n",
    "\n",
    "plt.figure(figsize=(8, 8))\n",
    "metrics.RocCurveDisplay.from_predictions(y_true_robust.cpu(), y_pred_robust.cpu())\n",
    "plt.title('ROC Curve (Robust Model)')\n",
    "plt.show()"
   ]
  },
  {
   "cell_type": "code",
   "execution_count": 42,
   "id": "2b207d42",
   "metadata": {},
   "outputs": [
    {
     "name": "stdout",
     "output_type": "stream",
     "text": [
      "Plotting results for the robust model...\n"
     ]
    },
    {
     "data": {
      "image/png": "[encoded data removed]",
      "text/plain": [
       "<Figure size 1000x600 with 1 Axes>"
      ]
     },
     "metadata": {},
     "output_type": "display_data"
    },
    {
     "data": {
      "text/plain": [
       "<Figure size 800x800 with 0 Axes>"
      ]
     },
     "metadata": {},
     "output_type": "display_data"
    },
    {
     "data": {
      "image/png": "[encoded data removed]",
      "text/plain": [
       "<Figure size 640x480 with 1 Axes>"
      ]
     },
     "metadata": {},
     "output_type": "display_data"
    }
   ],
   "source": [
    "# Calcola i punteggi per i dati ID e OOD usando il nuovo modello robusto per la MAX LOGIT\n",
    "scores_test_robust = compute_scores(testloader, robust_model, max_logit)\n",
    "scores_fake_robust = compute_scores(fakeloader, robust_model, max_logit)\n",
    "\n",
    "# --- 5. Visualizzazione e Analisi dei Risultati ---\n",
    "print(\"Plotting results for the robust model...\")\n",
    "\n",
    "# Istogramma delle distribuzioni dei punteggi\n",
    "plt.figure(figsize=(10, 6))\n",
    "plt.hist(scores_test_robust.cpu().numpy(), density=True, alpha=0.5, bins=25, label='ID (CIFAR-10)')\n",
    "plt.hist(scores_fake_robust.cpu().numpy(), density=True, alpha=0.5, bins=25, label='OOD (FakeData)')\n",
    "plt.title('Score Distributions (Robust Model)')\n",
    "plt.xlabel('Confidence Score (max_logit)')\n",
    "plt.legend()\n",
    "plt.show()\n",
    "\n",
    "# Curva ROC per la performance di rilevamento OOD\n",
    "y_pred_robust = torch.cat((scores_test_robust, scores_fake_robust))\n",
    "y_true_robust = torch.cat((torch.ones_like(scores_test_robust), torch.zeros_like(scores_fake_robust)))\n",
    "\n",
    "plt.figure(figsize=(8, 8))\n",
    "metrics.RocCurveDisplay.from_predictions(y_true_robust.cpu(), y_pred_robust.cpu())\n",
    "plt.title('ROC Curve (Robust Model)')\n",
    "plt.show()"
   ]
  },
  {
   "cell_type": "markdown",
   "id": "63091fd3",
   "metadata": {},
   "source": [
    "---\n",
    "## Exercise 3: Wildcard\n",
    "\n",
    "### Exercise 3.3: Experiment with *targeted* adversarial attacks\n",
    "Implement the targeted Fast Gradient Sign Method to generate adversarial samples that *imitate* samples from a specific class. Evaluate your adversarial samples qualitatively and quantitatively.\n"
   ]
  },
  {
   "cell_type": "code",
   "execution_count": 43,
   "id": "808aa476",
   "metadata": {},
   "outputs": [],
   "source": [
    "import torch\n",
    "import torch.nn as nn\n",
    "import torch.nn.functional as F\n",
    "import numpy as np\n",
    "import matplotlib.pyplot as plt\n",
    "from tqdm.notebook import tqdm"
   ]
  },
  {
   "cell_type": "code",
   "execution_count": 44,
   "id": "0364fad3",
   "metadata": {},
   "outputs": [],
   "source": [
    "def fgsm_attack_generic(model, loss, x, y, eps, targeted_attack=False, target_label=None, sample_id=0):\n",
    "    x, y = x[sample_id].to(device), y[sample_id].to(device)\n",
    "\n",
    "    x = x[None,:]\n",
    "    y = y[None]\n",
    "\n",
    "    x.requires_grad=True\n",
    "\n",
    "    before = x.clone()\n",
    "    output = model(x)\n",
    "    #print(output.argmax().item(),  y.item())\n",
    "    img = inv(x[0])\n",
    "    plt.imshow(img.permute(1,2,0).detach().cpu())\n",
    "    plt.title(testset.classes[output.argmax()])\n",
    "    plt.show()\n",
    "\n",
    "    if output.argmax().item() !=  y.item() or y.item() == target_label:\n",
    "        print('classifier is already wrong or target label same as GT!')\n",
    "\n",
    "    else:\n",
    "        done = False\n",
    "        print('Attack!!')\n",
    "        n = 0\n",
    "        # only attack if y==model(x)\n",
    "        # target = torch.tensor(y).unsqueeze(0).cuda()\n",
    "        if targeted_attack:\n",
    "            target = torch.tensor(target_label).unsqueeze(0).cuda()\n",
    "            print(f'target: {testset.classes[target.squeeze()]}')\n",
    "    \n",
    "        while not done: # untargeted attack until success!\n",
    "            x.retain_grad()\n",
    "            output = model(x)\n",
    "            model.zero_grad()\n",
    "\n",
    "            if targeted_attack:\n",
    "                yt = target # targeted\n",
    "            else:\n",
    "                yt = y # untargeted\n",
    "            \n",
    "            l = loss(output,yt)\n",
    "            l.backward()\n",
    "\n",
    "            if targeted_attack:\n",
    "                x = x - eps * torch.sign(x.grad) # FGSM targeted\n",
    "            else:\n",
    "                x = x + eps * torch.sign(x.grad) # FGSM untargeted\n",
    "            \n",
    "            n += 1\n",
    "\n",
    "            print(output.argmax().item(),  y.item())\n",
    "            if not targeted_attack and output.argmax().item()!=  y.item():\n",
    "                print(f'Untargeted attack success! budget:{int(255 * n * eps)}/255')\n",
    "                done=True\n",
    "            \n",
    "            if targeted_attack and output.argmax().item() == target:\n",
    "                print(f'Targeted attack({testset.classes[output.argmax()]}) success! budget:{int(255 * n * eps)}/255')\n",
    "                done=True\n",
    "                    \n",
    "        img = inv(x.squeeze())\n",
    "        plt.imshow(img.permute(1,2,0).detach().cpu())\n",
    "        plt.title(testset.classes[output.argmax()])\n",
    "        plt.show()\n",
    "\n",
    "        diff = (x - before)\n",
    "        diffi = inv(diff[0])\n",
    "        plt.imshow(diffi.permute(1,2,0).detach().cpu())\n",
    "        plt.title('diff')\n",
    "        plt.show()\n",
    "\n",
    "        diff_flat = diff.flatten()\n",
    "\n",
    "        plt.hist(diff_flat.detach().cpu())\n",
    "        \n",
    "    return x"
   ]
  },
  {
   "cell_type": "code",
   "execution_count": 45,
   "id": "291fcd24",
   "metadata": {},
   "outputs": [
    {
     "name": "stderr",
     "output_type": "stream",
     "text": [
      "Clipping input data to the valid range for imshow with RGB data ([0..1] for floats or [0..255] for integers). Got range [-1.1920932e-07..0.964706].\n"
     ]
    },
    {
     "name": "stdout",
     "output_type": "stream",
     "text": [
      "sample id: 35\n"
     ]
    },
    {
     "data": {
      "image/png": "[encoded data removed]",
      "text/plain": [
       "<Figure size 640x480 with 1 Axes>"
      ]
     },
     "metadata": {},
     "output_type": "display_data"
    },
    {
     "name": "stdout",
     "output_type": "stream",
     "text": [
      "classifier is already wrong or target label same as GT!\n"
     ]
    }
   ],
   "source": [
    "loss =  nn.CrossEntropyLoss()\n",
    "model.train()\n",
    "for data in testloader:\n",
    "    x, y = data\n",
    "    break\n",
    "\n",
    "targeted_attack = True # False for untargeted, True for targeted attack\n",
    "target_label = class_dict['deer']\n",
    "eps = 1/255 # set the budget for each step\n",
    "sample_id = random.randint(0,len(testloader)) # select id of test set sample to try to attack (id=17 is attackable)\n",
    "print(f'sample id: {sample_id}')\n",
    "\n",
    "x_adversarial = fgsm_attack_generic(model, loss, x, y, eps, targeted_attack=targeted_attack, target_label=target_label, sample_id=sample_id)"
   ]
  }
 ],
 "metadata": {
  "kernelspec": {
   "display_name": "vmr2025",
   "language": "python",
   "name": "python3"
  },
  "language_info": {
   "codemirror_mode": {
    "name": "ipython",
    "version": 3
   },
   "file_extension": ".py",
   "mimetype": "text/x-python",
   "name": "python",
   "nbconvert_exporter": "python",
   "pygments_lexer": "ipython3",
   "version": "3.10.16"
  }
 },
 "nbformat": 4,
 "nbformat_minor": 5
}
